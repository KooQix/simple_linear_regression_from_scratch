{
  "cells": [
    {
      "attachments": {},
      "cell_type": "markdown",
      "metadata": {
        "id": "8iwaee_T-Urj"
      },
      "source": [
        "# Simple Linear Regression from scratch\n"
      ]
    },
    {
      "cell_type": "code",
      "execution_count": 31,
      "metadata": {
        "id": "muBoDkj1iiSW"
      },
      "outputs": [],
      "source": [
        "# load required library\n",
        "from sklearn.datasets import load_diabetes\n",
        "import matplotlib.pyplot as plt\n",
        "import numpy as np\n",
        "# load dataset\n",
        "X, y = load_diabetes(return_X_y=True)\n",
        "X = X[:, 2]"
      ]
    },
    {
      "attachments": {},
      "cell_type": "markdown",
      "metadata": {
        "id": "TsgncCfbbllf"
      },
      "source": [
        "**Part I - Plot data** "
      ]
    },
    {
      "cell_type": "code",
      "execution_count": 32,
      "metadata": {
        "id": "YcMTIN2_iPrC",
        "pycharm": {
          "name": "#%%\n"
        }
      },
      "outputs": [
        {
          "data": {
            "image/png": "[encoded data removed]",
            "text/plain": [
              "<Figure size 432x288 with 1 Axes>"
            ]
          },
          "metadata": {
            "needs_background": "light"
          },
          "output_type": "display_data"
        }
      ],
      "source": [
        "# draw the raw data plot\n",
        "plt.scatter(X, y)\n",
        "plt.xlabel(\"x\")\n",
        "plt.ylabel(\"y\")\n",
        "plt.title(\"Diabetes\")\n",
        "plt.show()"
      ]
    },
    {
      "attachments": {},
      "cell_type": "markdown",
      "metadata": {
        "id": "fnMAVpoviPrF",
        "pycharm": {
          "name": "#%% md\n"
        }
      },
      "source": [
        "**Part II - Define loss function** "
      ]
    },
    {
      "attachments": {},
      "cell_type": "markdown",
      "metadata": {},
      "source": [
        "Initialize theta"
      ]
    },
    {
      "cell_type": "code",
      "execution_count": 33,
      "metadata": {
        "id": "9Foim5FziPq9",
        "pycharm": {
          "name": "#%%\n"
        }
      },
      "outputs": [
        {
          "data": {
            "text/plain": [
              "[0.82, 0.18]"
            ]
          },
          "execution_count": 33,
          "metadata": {},
          "output_type": "execute_result"
        }
      ],
      "source": [
        "# theta is randomly initialized\n",
        "# The dimension of theta is n+1, where n is the number of features (dimension of the input), since it also contains the bias\n",
        "# Here, input dimension = 1, so dim(theta) = 2 \n",
        "import random\n",
        "\n",
        "def gen_random(a: int, b: int, round_ndigits=None):\n",
        "\t\"\"\"Return a random float between a and b\n",
        "\n",
        "\tArgs:\n",
        "\t\ta (int): Low boundary\n",
        "\t\tb (int): High boundary\n",
        "\t\tround_ndigits (int, optional): The number of digits to round. Defaults to None.\n",
        "\n",
        "\tReturns:\n",
        "\t\tfloat: A random number between a and b\n",
        "\t\"\"\"\n",
        "\tres = random.random() * (b - a) + a \n",
        "\treturn res if round_ndigits == None else round(res, round_ndigits)\n",
        "\n",
        "# We initialize the bias and the only weight as a float between 0 and 1 (arbitrary)\n",
        "theta = [gen_random(0, 1, 2), gen_random(0, 1, 2)]\n",
        "theta"
      ]
    },
    {
      "attachments": {},
      "cell_type": "markdown",
      "metadata": {},
      "source": [
        "Define loss function (mean squared loss)"
      ]
    },
    {
      "cell_type": "code",
      "execution_count": 34,
      "metadata": {
        "id": "LeRyPvYD3oKw"
      },
      "outputs": [],
      "source": [
        "def mean_squared_error(y_predictions: list, y: list):\n",
        "\t\"\"\"Mean Squared Error\n",
        "\n",
        "\tArgs:\n",
        "\t\ty_predictions (list): The list of predictions\n",
        "\t\ty (list): The list of true values\n",
        "\n",
        "\tReturns:\n",
        "\t\tfloat: The Mean Squared Error between y and y_predictions\n",
        "\t\"\"\"\n",
        "\tassert len(y) == len(y_predictions)\n",
        "\n",
        "\tsquared_error = 0\n",
        "\n",
        "\tfor i in range(len(y)):\n",
        "\t\tsquared_error += (y[i] - y_predictions[i])**2\n",
        "\n",
        "\treturn squared_error / len(y)"
      ]
    },
    {
      "cell_type": "code",
      "execution_count": 35,
      "metadata": {},
      "outputs": [],
      "source": [
        "def predict(theta: tuple, x: list):\n",
        "\t\"\"\"Predict the values y given the inputs x\n",
        "\n",
        "\tArgs:\n",
        "\t\ttheta (tuple): (weight, bias) of the model\n",
        "\t\tx (list): list of inputs\n",
        "\n",
        "\tReturns:\n",
        "\t\tlist: The list of predictions for each x[i]\n",
        "\t\"\"\"\n",
        "\treturn theta[1] + theta[0] * x"
      ]
    },
    {
      "cell_type": "code",
      "execution_count": 36,
      "metadata": {},
      "outputs": [
        {
          "data": {
            "text/plain": [
              "array([0.23059089, 0.13779127, 0.21644999, 0.17049209, 0.15016455,\n",
              "       0.14662933, 0.14132649, 0.17844634, 0.23059089, 0.21203097,\n",
              "       0.11127709, 0.19435485, 0.15635119, 0.17844634, 0.15900261,\n",
              "       0.16518925, 0.21468238, 0.18993582, 0.17137589, 0.16518925,\n",
              "       0.13337224, 0.16165403, 0.17667873, 0.22970708, 0.20937955,\n",
              "       0.16960828, 0.11657993, 0.22882328, 0.16253784, 0.17491112,\n",
              "       0.21644999, 0.12630179, 0.28273544, 0.13867508, 0.1280694 ,\n",
              "       0.15458358, 0.19877388, 0.18905201, 0.23854514, 0.19170343,\n",
              "       0.17314351, 0.12453418, 0.17137589, 0.16077022, 0.23589372,\n",
              "       0.15104836, 0.17049209, 0.12011515, 0.14574552, 0.19170343,\n",
              "       0.17402731, 0.19347104, 0.1722597 , 0.16695686, 0.20054149,\n",
              "       0.13955888, 0.21379858, 0.1280694 , 0.1271856 , 0.15900261,\n",
              "       0.17667873, 0.18374918, 0.17402731, 0.14928075, 0.15900261,\n",
              "       0.15988642, 0.16518925, 0.16784067, 0.15546739, 0.1422103 ,\n",
              "       0.12276657, 0.20761194, 0.17667873, 0.16342164, 0.18198156,\n",
              "       0.15458358, 0.20319291, 0.15016455, 0.13248843, 0.14928075,\n",
              "       0.18993582, 0.16165403, 0.15104836, 0.18816821, 0.14751313,\n",
              "       0.23854514, 0.11834754, 0.17491112, 0.14662933, 0.14044269,\n",
              "       0.15900261, 0.22263664, 0.18374918, 0.1271856 , 0.16607306,\n",
              "       0.13248843, 0.18816821, 0.25268604, 0.17579492, 0.1271856 ,\n",
              "       0.19435485, 0.14309411, 0.20319291, 0.21379858, 0.23324231,\n",
              "       0.15369978, 0.11746373, 0.22086902, 0.2173338 , 0.1722597 ,\n",
              "       0.15369978, 0.18374918, 0.19700627, 0.19170343, 0.27036215,\n",
              "       0.18109776, 0.22793947, 0.16253784, 0.17137589, 0.14132649,\n",
              "       0.18374918, 0.19435485, 0.2464994 , 0.20849574, 0.19965768,\n",
              "       0.17314351, 0.12983702, 0.17844634, 0.12895321, 0.19347104,\n",
              "       0.25887268, 0.12276657, 0.16253784, 0.13602366, 0.21556619,\n",
              "       0.22617186, 0.1130447 , 0.22086902, 0.27124596, 0.23059089,\n",
              "       0.19170343, 0.21910141, 0.18993582, 0.18463298, 0.21821761,\n",
              "       0.28538686, 0.22882328, 0.25622126, 0.19258724, 0.17579492,\n",
              "       0.23766134, 0.17667873, 0.17933015, 0.14397791, 0.19700627,\n",
              "       0.22970708, 0.17137589, 0.15281597, 0.12630179, 0.21556619,\n",
              "       0.12895321, 0.2323585 , 0.20496052, 0.23942895, 0.16430545,\n",
              "       0.12541799, 0.13072082, 0.23677753, 0.22882328, 0.15811881,\n",
              "       0.16342164, 0.1422103 , 0.23854514, 0.11481232, 0.18816821,\n",
              "       0.14839694, 0.19612246, 0.2023091 , 0.17314351, 0.16695686,\n",
              "       0.18374918, 0.14486172, 0.18463298, 0.15104836, 0.19965768,\n",
              "       0.16518925, 0.21468238, 0.13513985, 0.17756254, 0.12541799,\n",
              "       0.16960828, 0.14574552, 0.15458358, 0.17579492, 0.13160463,\n",
              "       0.20054149, 0.1422103 , 0.18286537, 0.22440425, 0.14309411,\n",
              "       0.13248843, 0.13425605, 0.18109776, 0.20496052, 0.18551679,\n",
              "       0.21821761, 0.20142529, 0.2173338 , 0.21291477, 0.16518925,\n",
              "       0.19170343, 0.21026335, 0.18286537, 0.12188276, 0.15281597,\n",
              "       0.25710507, 0.20937955, 0.20584432, 0.12630179, 0.14574552,\n",
              "       0.14751313, 0.14839694, 0.15900261, 0.16077022, 0.12541799,\n",
              "       0.20672813, 0.1422103 , 0.15546739, 0.16960828, 0.16695686,\n",
              "       0.23854514, 0.15458358, 0.18021395, 0.21026335, 0.21203097,\n",
              "       0.16784067, 0.18551679, 0.12365038, 0.1722597 , 0.19612246,\n",
              "       0.24119656, 0.17314351, 0.16077022, 0.1422103 , 0.22440425,\n",
              "       0.15104836, 0.15369978, 0.1130447 , 0.21910141, 0.22970708,\n",
              "       0.22617186, 0.26064029, 0.22882328, 0.20761194, 0.22617186,\n",
              "       0.12630179, 0.31190103, 0.13425605, 0.15988642, 0.15016455,\n",
              "       0.17314351, 0.14574552, 0.28450305, 0.11657993, 0.20319291,\n",
              "       0.15900261, 0.12895321, 0.17933015, 0.25268604, 0.15369978,\n",
              "       0.20496052, 0.1872844 , 0.18551679, 0.16342164, 0.15988642,\n",
              "       0.17049209, 0.20142529, 0.13160463, 0.15016455, 0.15988642,\n",
              "       0.19523865, 0.10597426, 0.17579492, 0.13690746, 0.16165403,\n",
              "       0.16342164, 0.13513985, 0.17491112, 0.16607306, 0.22528805,\n",
              "       0.24296417, 0.19523865, 0.16165403, 0.25622126, 0.15458358,\n",
              "       0.21203097, 0.12983702, 0.17314351, 0.14928075, 0.16872448,\n",
              "       0.24031275, 0.15988642, 0.20761194, 0.20849574, 0.14839694,\n",
              "       0.14751313, 0.17844634, 0.15458358, 0.1422103 , 0.18109776,\n",
              "       0.23324231, 0.21291477, 0.16077022, 0.22352044, 0.21291477,\n",
              "       0.16342164, 0.19170343, 0.15193216, 0.18551679, 0.18374918,\n",
              "       0.20496052, 0.22263664, 0.23059089, 0.17402731, 0.18463298,\n",
              "       0.22440425, 0.17314351, 0.27389738, 0.23500992, 0.13425605,\n",
              "       0.20496052, 0.15900261, 0.26594313, 0.17491112, 0.14132649,\n",
              "       0.14044269, 0.25003462, 0.16960828, 0.15281597, 0.17402731,\n",
              "       0.16872448, 0.22882328, 0.19789007, 0.19523865, 0.17049209,\n",
              "       0.17756254, 0.19435485, 0.15546739, 0.16342164, 0.13248843,\n",
              "       0.22970708, 0.14662933, 0.12099896, 0.13425605, 0.2173338 ,\n",
              "       0.1722597 , 0.15281597, 0.22086902, 0.11039329, 0.18463298,\n",
              "       0.19700627, 0.17402731, 0.26594313, 0.15988642, 0.17491112,\n",
              "       0.14839694, 0.2924573 , 0.31985529, 0.18198156, 0.21114716,\n",
              "       0.13248843, 0.1722597 , 0.16077022, 0.17137589, 0.15193216,\n",
              "       0.17756254, 0.23589372, 0.18816821, 0.18198156, 0.14839694,\n",
              "       0.20142529, 0.10685806, 0.22970708, 0.15635119, 0.15546739,\n",
              "       0.16430545, 0.14662933, 0.19258724, 0.15988642, 0.18109776,\n",
              "       0.23677753, 0.12276657, 0.15546739, 0.1422103 , 0.19523865,\n",
              "       0.18109776, 0.15458358, 0.17667873, 0.19258724, 0.19877388,\n",
              "       0.2173338 , 0.14309411, 0.15281597, 0.25975648, 0.22440425,\n",
              "       0.28096783, 0.11392851, 0.25622126, 0.13867508, 0.17049209,\n",
              "       0.157235  , 0.22793947, 0.25003462, 0.17933015, 0.18551679,\n",
              "       0.1872844 , 0.24561559, 0.23854514, 0.15988642, 0.13513985,\n",
              "       0.15016455, 0.19347104, 0.24384798, 0.14751313, 0.18905201,\n",
              "       0.14662933, 0.15193216, 0.18463298, 0.25268604, 0.15281597,\n",
              "       0.13337224, 0.15458358, 0.22528805, 0.13072082, 0.18109776,\n",
              "       0.16077022, 0.11923135, 0.19612246, 0.16695686, 0.16695686,\n",
              "       0.21203097, 0.12011515])"
            ]
          },
          "execution_count": 36,
          "metadata": {},
          "output_type": "execute_result"
        }
      ],
      "source": [
        "y_predictions = predict(theta, X)\n",
        "y_predictions"
      ]
    },
    {
      "attachments": {},
      "cell_type": "markdown",
      "metadata": {},
      "source": [
        "Initial mse value"
      ]
    },
    {
      "cell_type": "code",
      "execution_count": 37,
      "metadata": {
        "id": "XgGW6F3h3oSF"
      },
      "outputs": [
        {
          "data": {
            "text/plain": [
              "29016.22497595695"
            ]
          },
          "execution_count": 37,
          "metadata": {},
          "output_type": "execute_result"
        }
      ],
      "source": [
        "mean_squared_error(y_predictions, y)"
      ]
    },
    {
      "attachments": {},
      "cell_type": "markdown",
      "metadata": {
        "id": "yTOIzu0A31uM",
        "pycharm": {
          "name": "#%% md\n"
        }
      },
      "source": [
        "**Part III - Gradient descent implementation** "
      ]
    },
    {
      "cell_type": "code",
      "execution_count": 38,
      "metadata": {
        "id": "xlyVZga36LK9"
      },
      "outputs": [
        {
          "name": "stdout",
          "output_type": "stream",
          "text": [
            "(weight, bias) = (909.6874167618686, 152.13348416289665)\n",
            "Last mse: 3894.0309996526917\n"
          ]
        }
      ],
      "source": [
        "# The number of epochs and the learning rate are values found empirically, by observing the loss over the epochs and, if possible, observing the regression model (how it fits the data)\n",
        "\n",
        "epochs = 1000\n",
        "learning_rate = 0.7\n",
        "\n",
        "\n",
        "def gradient_descent(theta: tuple, x: list, y: list, epochs: int, learning_rate: float):\n",
        "\t\"\"\"Gradient descent adapted for Mean Squared Loss and a unique input feature\n",
        "\n",
        "\tArgs:\n",
        "\t\ttheta (list): (weight, bias)\n",
        "\t\tx (list): inputs\n",
        "\t\ty (list): outputs\n",
        "\t\tepochs (int): The number of epochs\n",
        "\t\tlearning_rate (float): The learning rate\n",
        "\n",
        "\tReturns:\n",
        "\t\tupdated bias, updated weight, [(weight, bias) over the epochs], [mse over the epochs]\n",
        "\t\"\"\"\n",
        "\tbias = theta[1]\n",
        "\tw = theta[0]\n",
        "\n",
        "\t# res = [(weight, bias) over the epochs]\n",
        "\t# mse = [mse over the epochs] (cost history)\n",
        "\tres, mse = [], []\n",
        "\n",
        "\tfor epoch in range(epochs):\n",
        "\t\t# Get predictions\n",
        "\t\ty_pred = predict([w, bias], x)\n",
        "\t\tdiff = y - y_pred # Vector containing the difference between y_i and y_pred_i\n",
        "\n",
        "\t\t# Update bias and weight using the gradient descent (question 8)\n",
        "\t\tw -= learning_rate * (-2 * x.dot(diff).sum() / len(x))\n",
        "\t\tbias -= learning_rate * (-2 * diff.sum() / len(x))\n",
        "\n",
        "\t\tres.append((w, bias))\n",
        "\t\tmse.append(mean_squared_error(predict([w, bias], x), y))\n",
        "\n",
        "\treturn bias, w, res, mse\n",
        "\n",
        "\n",
        "bias, w, res, mse = gradient_descent(theta, X, y, epochs, learning_rate)\n",
        "print(f\"(weight, bias) = ({w}, {bias})\")\n",
        "print(f\"Last mse: {mse[-1]}\")"
      ]
    },
    {
      "attachments": {},
      "cell_type": "markdown",
      "metadata": {
        "id": "OaY-iiB_7Ejd",
        "pycharm": {
          "name": "#%% md\n"
        }
      },
      "source": [
        "**Part IV - Plot loss function per epochs** "
      ]
    },
    {
      "cell_type": "code",
      "execution_count": 39,
      "metadata": {
        "id": "CvGzEg2Q6yhs"
      },
      "outputs": [
        {
          "data": {
            "image/png": "[encoded data removed]",
            "text/plain": [
              "<Figure size 432x288 with 1 Axes>"
            ]
          },
          "metadata": {
            "needs_background": "light"
          },
          "output_type": "display_data"
        }
      ],
      "source": [
        "plt.plot([i for i in range(epochs)], mse)\n",
        "plt.xlabel(\"Epochs\")\n",
        "plt.ylabel(\"Mean Square Loss\")\n",
        "plt.title(\"Mean Square Loss over epochs\")\n",
        "plt.show()"
      ]
    },
    {
      "attachments": {},
      "cell_type": "markdown",
      "metadata": {
        "id": "DvTfZcSc8DMM",
        "pycharm": {
          "name": "#%% md\n"
        }
      },
      "source": [
        "**Part V - Plot Linear Regression** "
      ]
    },
    {
      "cell_type": "code",
      "execution_count": 40,
      "metadata": {
        "id": "JVPnMAme8-XU"
      },
      "outputs": [
        {
          "data": {
            "image/png": "[encoded data removed]",
            "text/plain": [
              "<Figure size 432x288 with 1 Axes>"
            ]
          },
          "metadata": {
            "needs_background": "light"
          },
          "output_type": "display_data"
        }
      ],
      "source": [
        "y_pred = predict([w, bias], X)\n",
        "plt.scatter(X, y, label=\"data\")\n",
        "plt.plot(X, y_pred, color=\"red\", label=\"Linear reg\")\n",
        "plt.xlabel(\"x\")\n",
        "plt.ylabel(\"y\")\n",
        "plt.title(\"Linear regression\")\n",
        "plt.legend()\n",
        "plt.show()"
      ]
    }
  ],
  "metadata": {
    "colab": {
      "collapsed_sections": [],
      "provenance": []
    },
    "kernelspec": {
      "display_name": "base",
      "language": "python",
      "name": "python3"
    },
    "language_info": {
      "codemirror_mode": {
        "name": "ipython",
        "version": 3
      },
      "file_extension": ".py",
      "mimetype": "text/x-python",
      "name": "python",
      "nbconvert_exporter": "python",
      "pygments_lexer": "ipython3",
      "version": "3.9.12 (main, Apr  5 2022, 01:52:34) \n[Clang 12.0.0 ]"
    },
    "pycharm": {
      "stem_cell": {
        "cell_type": "raw",
        "metadata": {
          "collapsed": false
        },
        "source": []
      }
    },
    "vscode": {
      "interpreter": {
        "hash": "b2224ccfc9d1c3d6ac8da530e45b2ecb92d4a906758ba12232e3d4b5cc06d326"
      }
    }
  },
  "nbformat": 4,
  "nbformat_minor": 0
}
