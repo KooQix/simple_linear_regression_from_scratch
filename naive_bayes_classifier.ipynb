{
 "cells": [
  {
   "attachments": {},
   "cell_type": "markdown",
   "metadata": {},
   "source": [
    "# Simple Naive Bayes Classifier from scratch"
   ]
  },
  {
   "cell_type": "code",
   "execution_count": 1,
   "metadata": {},
   "outputs": [],
   "source": [
    "# load required library\n",
    "import matplotlib.pyplot as plt\n",
    "import numpy as np\n",
    "from sklearn.datasets import load_iris\n",
    "import random\n",
    "import math\n",
    "# load dataset\n",
    "x, y = load_iris(return_X_y=True)"
   ]
  },
  {
   "attachments": {},
   "cell_type": "markdown",
   "metadata": {},
   "source": [
    "### Split data (k-fold)"
   ]
  },
  {
   "cell_type": "code",
   "execution_count": 2,
   "metadata": {},
   "outputs": [],
   "source": [
    "# Split into 5 folds randomly (no train / test split)\n",
    "\n",
    "# Concat with label to shuffle\n",
    "data = [[x[i, :], y[i]] for i in range(len(x))]\n",
    "random.shuffle(data)\n",
    "\n",
    "k_folds = 5\n",
    "\n",
    "# Split features / labels\n",
    "x_train = np.array([e[0] for e in data])\n",
    "y_train = np.array([e[1] for e in data])\n",
    "\n",
    "# reshape into folds (4 features per sample)\n",
    "x_train = x_train.reshape(k_folds,-1,4)\n",
    "y_train = y_train.reshape(k_folds,-1)\n"
   ]
  },
  {
   "cell_type": "code",
   "execution_count": 3,
   "metadata": {},
   "outputs": [
    {
     "name": "stdout",
     "output_type": "stream",
     "text": [
      "(5, 30, 4)\n",
      "(5, 30)\n"
     ]
    }
   ],
   "source": [
    "print(x_train.shape)\n",
    "print(y_train.shape)"
   ]
  },
  {
   "attachments": {},
   "cell_type": "markdown",
   "metadata": {},
   "source": [
    "### Naive Bayes Classifier implementation"
   ]
  },
  {
   "cell_type": "code",
   "execution_count": 4,
   "metadata": {},
   "outputs": [],
   "source": [
    "def sep_by_class(x: np.array, y: np.array, k: int):\n",
    "\t\"\"\"Order x by class, classes between 0 and k-1\n",
    "\n",
    "\tArgs:\n",
    "\t\tx (np.array): features\n",
    "\t\ty (np.array): labels\n",
    "\t\tk (int): The number of classes\n",
    "\n",
    "\tReturns:\n",
    "\t\tlist[list]: The elements by class class. element index 0, class 0; index 1, class 1; ...\n",
    "\t\"\"\"\n",
    "\tassert len(x) == len(y)\n",
    "\n",
    "\tres = [[] for _ in range(k)]\n",
    "\tfor i in range(len(x)):\n",
    "\t\tres[y[i]].append(list(x[i]))\n",
    "\n",
    "\treturn res\n"
   ]
  },
  {
   "cell_type": "code",
   "execution_count": 5,
   "metadata": {},
   "outputs": [],
   "source": [
    "# Mean, variance, standard deviation\n",
    "def mean(input):\n",
    "\treturn sum(input) / len(input)\n",
    "\n",
    "def var(input):\n",
    "\tavg = mean(input)\n",
    "\treturn sum([(x - avg)**2 for x in input]) / len(input)\n",
    "\n",
    "def standard_dev(input):\n",
    "\treturn math.sqrt(var(input))"
   ]
  },
  {
   "cell_type": "code",
   "execution_count": 6,
   "metadata": {},
   "outputs": [],
   "source": [
    "def summary(input):\n",
    "\t\"\"\"Return (mean, standard deviation, nb of elements) for each column of the input (eg, the summary of each feature)\n",
    "\n",
    "\tArgs:\n",
    "\t\tinput (list): The features \n",
    "\n",
    "\tReturns:\n",
    "\t\tlist: [(mean, standard deviation, nb of elements)]\n",
    "\t\"\"\"\n",
    "\treturn [\n",
    "\t\t(mean(column), standard_dev(column), len(column)) for column in zip(*input)\n",
    "\t]"
   ]
  },
  {
   "cell_type": "code",
   "execution_count": 7,
   "metadata": {},
   "outputs": [],
   "source": [
    "def gaussian_proba(x, mean, standard_dev):\n",
    "\t\"\"\"Get probability using the Gaussian distribution\n",
    "\n",
    "\tArgs:\n",
    "\t\tx (float)                  \n",
    "\t\tmean (float)                     \n",
    "\t\tstandard_dev (float)                \n",
    "\n",
    "\tReturns:\n",
    "\t\tfloat: Probability\n",
    "\t\"\"\"\n",
    "\treturn (1 / math.sqrt(2 * math.pi) * standard_dev) * math.exp(-((x - mean)**2 / (2 * standard_dev**2)))"
   ]
  },
  {
   "cell_type": "code",
   "execution_count": 8,
   "metadata": {},
   "outputs": [],
   "source": [
    "def accuracy(y, y_pred):\n",
    "\t\"\"\"Count the number of correct prediction\n",
    "\n",
    "\tArgs:\n",
    "\t\ty (array): The true class\n",
    "\t\ty_pred (array): Predicted class\n",
    "\n",
    "\tReturns:\n",
    "\t\tfloat: The % of correct predictions\n",
    "\t\"\"\"\n",
    "\tassert len(y) == len(y_pred)\n",
    "\t\n",
    "\tcount = 0\n",
    "\tfor i in range(len(y_pred)):\n",
    "\t\tif (y_pred[i] == y[i]): count += 1\n",
    "\t\n",
    "\treturn count * 100 / len(y_pred)"
   ]
  },
  {
   "cell_type": "code",
   "execution_count": 9,
   "metadata": {},
   "outputs": [],
   "source": [
    "def get_class_proba(summaries: list, x):\n",
    "\t\"\"\"Calculate the probability of each class\n",
    "\n",
    "\tArgs:\n",
    "\t\tsummaries (list): Ordered by class, index 0, class 0; ...\n",
    "\t\tx (array): 1 sample of features\n",
    "\t\"\"\"\t\n",
    "\tprobas = {}\n",
    "\tfor i in range(len(summaries)):\n",
    "\t\tprobas[i] = 1\n",
    "\t\tfor j in range(len(summaries[i])):\n",
    "\t\t\tmean, stddev, _ = summaries[i][j]\n",
    "\t\t\tprobas[i] *= gaussian_proba(x[j], mean, stddev)\n",
    "\n",
    "\treturn probas"
   ]
  },
  {
   "cell_type": "code",
   "execution_count": 10,
   "metadata": {},
   "outputs": [],
   "source": [
    "def predict(summaries: list, x):\n",
    "\t\"\"\"Compute get_class_proba above and return the label for which the probability is the highest\n",
    "\t\"\"\"\n",
    "\tpredicted_class = 0\n",
    "\tassociated_proba = 0\n",
    "\tfor _class, proba in get_class_proba(summaries, x).items():\n",
    "\t\tif (proba > associated_proba):\n",
    "\t\t\tpredicted_class = _class\n",
    "\t\t\tassociated_proba = proba\n",
    "\treturn predicted_class"
   ]
  },
  {
   "cell_type": "code",
   "execution_count": 11,
   "metadata": {},
   "outputs": [],
   "source": [
    "def get_predictions(summaries: list, x):\n",
    "\t\"\"\"Predict class for each sample\n",
    "\n",
    "\tArgs:\n",
    "\t\tsummaries (list): Ordered by class, index 0, class 0; ...\n",
    "\t\tx (_type_): The list of samples\n",
    "\t\"\"\"\n",
    "\ty_pred = []\n",
    "\tfor _x in x:\n",
    "\t\ty_pred.append(predict(summaries, _x))\n",
    "\n",
    "\treturn y_pred"
   ]
  },
  {
   "cell_type": "code",
   "execution_count": 12,
   "metadata": {},
   "outputs": [],
   "source": [
    "def naive_bayes(x, y, k):\n",
    "\t\"\"\"Algorithm\n",
    "\n",
    "\tArgs:\n",
    "\t\tx (list): One fold of sample\n",
    "\t\ty (list): The associated fold of labels\n",
    "\t\tk (int): Number of classes\n",
    "\t\"\"\"\n",
    "\t# Order by class\n",
    "\tseparated_by_class = sep_by_class(x, y, k)\n",
    "\t# Calculate mean and standard deviation for each feature, for each class\n",
    "\tsummaries = [summary(separated_by_class[i]) for i in range(len(separated_by_class))]\n",
    "\t# Calculate prediction\n",
    "\treturn get_predictions(summaries, x)"
   ]
  },
  {
   "attachments": {},
   "cell_type": "markdown",
   "metadata": {},
   "source": [
    "### Train"
   ]
  },
  {
   "attachments": {},
   "cell_type": "markdown",
   "metadata": {},
   "source": [
    "$y \\in {0, 1, 2}$ => number of classes k = 3"
   ]
  },
  {
   "cell_type": "code",
   "execution_count": 13,
   "metadata": {},
   "outputs": [
    {
     "name": "stdout",
     "output_type": "stream",
     "text": [
      "\n",
      "------------------------ Fold 0 ---------------------\n",
      "\n",
      "Accuracy: 93.33333333333333%\n",
      "\n",
      "------------------------ Fold 1 ---------------------\n",
      "\n",
      "Accuracy: 96.66666666666667%\n",
      "\n",
      "------------------------ Fold 2 ---------------------\n",
      "\n",
      "Accuracy: 100.0%\n",
      "\n",
      "------------------------ Fold 3 ---------------------\n",
      "\n",
      "Accuracy: 96.66666666666667%\n",
      "\n",
      "------------------------ Fold 4 ---------------------\n",
      "\n",
      "Accuracy: 93.33333333333333%\n",
      "\n",
      "\n",
      "Avg folds accuracy: 96.0%\n"
     ]
    }
   ],
   "source": [
    "k = 3\n",
    "\n",
    "# For each fold, apply naive Bayes and get accuracy\n",
    "\n",
    "acc = []\n",
    "for i in range(k_folds):\n",
    "\tprint(f\"\\n------------------------ Fold {i} ---------------------\\n\")\n",
    "\ty_pred = naive_bayes(x_train[i], y_train[i], k)\n",
    "\t_acc = accuracy(y_train[i], y_pred)\n",
    "\tacc.append(_acc)\n",
    "\tprint(f\"Accuracy: {_acc}%\")\n",
    "\n",
    "\n",
    "# Return the avg accuracy\n",
    "avg_accuracy_folds = sum(acc) / len(acc)\n",
    "\n",
    "print(f\"\\n\\nAvg folds accuracy: {round(avg_accuracy_folds, 2)}%\")"
   ]
  }
 ],
 "metadata": {
  "kernelspec": {
   "display_name": "base",
   "language": "python",
   "name": "python3"
  },
  "language_info": {
   "codemirror_mode": {
    "name": "ipython",
    "version": 3
   },
   "file_extension": ".py",
   "mimetype": "text/x-python",
   "name": "python",
   "nbconvert_exporter": "python",
   "pygments_lexer": "ipython3",
   "version": "3.9.12"
  },
  "orig_nbformat": 4,
  "vscode": {
   "interpreter": {
    "hash": "b2224ccfc9d1c3d6ac8da530e45b2ecb92d4a906758ba12232e3d4b5cc06d326"
   }
  }
 },
 "nbformat": 4,
 "nbformat_minor": 2
}
